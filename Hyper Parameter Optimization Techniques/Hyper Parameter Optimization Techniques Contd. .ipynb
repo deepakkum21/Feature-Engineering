{
 "cells": [
  {
   "cell_type": "markdown",
   "metadata": {},
   "source": [
    "# Hyper Parameter Optimization Techniques Contd.\n",
    "\n",
    "## 3. Automated Hyperparameter Tuning"
   ]
  },
  {
   "cell_type": "markdown",
   "metadata": {},
   "source": [
    "    Automated Hyperparameter Tuning can be done by using techniques such as\n",
    "\n",
    "- Bayesian Optimization\n",
    "- Gradient Descent\n",
    "- Evolutionary Algorithms"
   ]
  },
  {
   "cell_type": "markdown",
   "metadata": {},
   "source": [
    "## 3.1 Bayesian Optimization"
   ]
  },
  {
   "cell_type": "markdown",
   "metadata": {},
   "source": [
    "    1. Bayesian optimization uses probability to find the minimum of a function. \n",
    "    2. The final aim is to find the input value to a function which can gives us the lowest possible output value.\n",
    "    3. It usually performs better than random,grid and manual search providing better performance in the testing phase and reduced optimization time. \n",
    "    4. In Hyperopt, Bayesian Optimization can be implemented giving 3 three main parameters to the function fmin.\n",
    "\n",
    "- Objective Function = \n",
    "    `defines the loss function to minimize.`\n",
    "- Domain Space = \n",
    "    `defines the range of input values to test (in Bayesian Optimization this space creates a probability distribution for each of the used Hyperparameters).`\n",
    "- Optimization Algorithm = \n",
    "    `defines the search algorithm to use to select the best input values to use in each new iteration.`"
   ]
  },
  {
   "cell_type": "code",
   "execution_count": 9,
   "metadata": {},
   "outputs": [
    {
     "data": {
      "text/html": [
       "<div>\n",
       "<style scoped>\n",
       "    .dataframe tbody tr th:only-of-type {\n",
       "        vertical-align: middle;\n",
       "    }\n",
       "\n",
       "    .dataframe tbody tr th {\n",
       "        vertical-align: top;\n",
       "    }\n",
       "\n",
       "    .dataframe thead th {\n",
       "        text-align: right;\n",
       "    }\n",
       "</style>\n",
       "<table border=\"1\" class=\"dataframe\">\n",
       "  <thead>\n",
       "    <tr style=\"text-align: right;\">\n",
       "      <th></th>\n",
       "      <th>Pregnancies</th>\n",
       "      <th>Glucose</th>\n",
       "      <th>BloodPressure</th>\n",
       "      <th>SkinThickness</th>\n",
       "      <th>Insulin</th>\n",
       "      <th>BMI</th>\n",
       "      <th>DiabetesPedigreeFunction</th>\n",
       "      <th>Age</th>\n",
       "      <th>Outcome</th>\n",
       "    </tr>\n",
       "  </thead>\n",
       "  <tbody>\n",
       "    <tr>\n",
       "      <th>0</th>\n",
       "      <td>6</td>\n",
       "      <td>148</td>\n",
       "      <td>72</td>\n",
       "      <td>35</td>\n",
       "      <td>0</td>\n",
       "      <td>33.6</td>\n",
       "      <td>0.627</td>\n",
       "      <td>50</td>\n",
       "      <td>1</td>\n",
       "    </tr>\n",
       "    <tr>\n",
       "      <th>1</th>\n",
       "      <td>1</td>\n",
       "      <td>85</td>\n",
       "      <td>66</td>\n",
       "      <td>29</td>\n",
       "      <td>0</td>\n",
       "      <td>26.6</td>\n",
       "      <td>0.351</td>\n",
       "      <td>31</td>\n",
       "      <td>0</td>\n",
       "    </tr>\n",
       "    <tr>\n",
       "      <th>2</th>\n",
       "      <td>8</td>\n",
       "      <td>183</td>\n",
       "      <td>64</td>\n",
       "      <td>0</td>\n",
       "      <td>0</td>\n",
       "      <td>23.3</td>\n",
       "      <td>0.672</td>\n",
       "      <td>32</td>\n",
       "      <td>1</td>\n",
       "    </tr>\n",
       "    <tr>\n",
       "      <th>3</th>\n",
       "      <td>1</td>\n",
       "      <td>89</td>\n",
       "      <td>66</td>\n",
       "      <td>23</td>\n",
       "      <td>94</td>\n",
       "      <td>28.1</td>\n",
       "      <td>0.167</td>\n",
       "      <td>21</td>\n",
       "      <td>0</td>\n",
       "    </tr>\n",
       "    <tr>\n",
       "      <th>4</th>\n",
       "      <td>0</td>\n",
       "      <td>137</td>\n",
       "      <td>40</td>\n",
       "      <td>35</td>\n",
       "      <td>168</td>\n",
       "      <td>43.1</td>\n",
       "      <td>2.288</td>\n",
       "      <td>33</td>\n",
       "      <td>1</td>\n",
       "    </tr>\n",
       "  </tbody>\n",
       "</table>\n",
       "</div>"
      ],
      "text/plain": [
       "   Pregnancies  Glucose  BloodPressure  SkinThickness  Insulin   BMI  \\\n",
       "0            6      148             72             35        0  33.6   \n",
       "1            1       85             66             29        0  26.6   \n",
       "2            8      183             64              0        0  23.3   \n",
       "3            1       89             66             23       94  28.1   \n",
       "4            0      137             40             35      168  43.1   \n",
       "\n",
       "   DiabetesPedigreeFunction  Age  Outcome  \n",
       "0                     0.627   50        1  \n",
       "1                     0.351   31        0  \n",
       "2                     0.672   32        1  \n",
       "3                     0.167   21        0  \n",
       "4                     2.288   33        1  "
      ]
     },
     "execution_count": 9,
     "metadata": {},
     "output_type": "execute_result"
    }
   ],
   "source": [
    "\n",
    "import warnings\n",
    "warnings.filterwarnings('ignore')\n",
    "\n",
    "import pandas as pd\n",
    "df=pd.read_csv('diabetes.csv')\n",
    "df.head()\n",
    "\n"
   ]
  },
  {
   "cell_type": "code",
   "execution_count": 10,
   "metadata": {},
   "outputs": [
    {
     "data": {
      "text/html": [
       "<div>\n",
       "<style scoped>\n",
       "    .dataframe tbody tr th:only-of-type {\n",
       "        vertical-align: middle;\n",
       "    }\n",
       "\n",
       "    .dataframe tbody tr th {\n",
       "        vertical-align: top;\n",
       "    }\n",
       "\n",
       "    .dataframe thead th {\n",
       "        text-align: right;\n",
       "    }\n",
       "</style>\n",
       "<table border=\"1\" class=\"dataframe\">\n",
       "  <thead>\n",
       "    <tr style=\"text-align: right;\">\n",
       "      <th></th>\n",
       "      <th>Pregnancies</th>\n",
       "      <th>Glucose</th>\n",
       "      <th>BloodPressure</th>\n",
       "      <th>SkinThickness</th>\n",
       "      <th>Insulin</th>\n",
       "      <th>BMI</th>\n",
       "      <th>DiabetesPedigreeFunction</th>\n",
       "      <th>Age</th>\n",
       "      <th>Outcome</th>\n",
       "    </tr>\n",
       "  </thead>\n",
       "  <tbody>\n",
       "    <tr>\n",
       "      <th>0</th>\n",
       "      <td>6</td>\n",
       "      <td>148.0</td>\n",
       "      <td>72</td>\n",
       "      <td>35</td>\n",
       "      <td>0</td>\n",
       "      <td>33.6</td>\n",
       "      <td>0.627</td>\n",
       "      <td>50</td>\n",
       "      <td>1</td>\n",
       "    </tr>\n",
       "    <tr>\n",
       "      <th>1</th>\n",
       "      <td>1</td>\n",
       "      <td>85.0</td>\n",
       "      <td>66</td>\n",
       "      <td>29</td>\n",
       "      <td>0</td>\n",
       "      <td>26.6</td>\n",
       "      <td>0.351</td>\n",
       "      <td>31</td>\n",
       "      <td>0</td>\n",
       "    </tr>\n",
       "    <tr>\n",
       "      <th>2</th>\n",
       "      <td>8</td>\n",
       "      <td>183.0</td>\n",
       "      <td>64</td>\n",
       "      <td>0</td>\n",
       "      <td>0</td>\n",
       "      <td>23.3</td>\n",
       "      <td>0.672</td>\n",
       "      <td>32</td>\n",
       "      <td>1</td>\n",
       "    </tr>\n",
       "    <tr>\n",
       "      <th>3</th>\n",
       "      <td>1</td>\n",
       "      <td>89.0</td>\n",
       "      <td>66</td>\n",
       "      <td>23</td>\n",
       "      <td>94</td>\n",
       "      <td>28.1</td>\n",
       "      <td>0.167</td>\n",
       "      <td>21</td>\n",
       "      <td>0</td>\n",
       "    </tr>\n",
       "    <tr>\n",
       "      <th>4</th>\n",
       "      <td>0</td>\n",
       "      <td>137.0</td>\n",
       "      <td>40</td>\n",
       "      <td>35</td>\n",
       "      <td>168</td>\n",
       "      <td>43.1</td>\n",
       "      <td>2.288</td>\n",
       "      <td>33</td>\n",
       "      <td>1</td>\n",
       "    </tr>\n",
       "  </tbody>\n",
       "</table>\n",
       "</div>"
      ],
      "text/plain": [
       "   Pregnancies  Glucose  BloodPressure  SkinThickness  Insulin   BMI  \\\n",
       "0            6    148.0             72             35        0  33.6   \n",
       "1            1     85.0             66             29        0  26.6   \n",
       "2            8    183.0             64              0        0  23.3   \n",
       "3            1     89.0             66             23       94  28.1   \n",
       "4            0    137.0             40             35      168  43.1   \n",
       "\n",
       "   DiabetesPedigreeFunction  Age  Outcome  \n",
       "0                     0.627   50        1  \n",
       "1                     0.351   31        0  \n",
       "2                     0.672   32        1  \n",
       "3                     0.167   21        0  \n",
       "4                     2.288   33        1  "
      ]
     },
     "execution_count": 10,
     "metadata": {},
     "output_type": "execute_result"
    }
   ],
   "source": [
    "import numpy as np\n",
    "df['Glucose']=np.where(df['Glucose']==0,df['Glucose'].median(),df['Glucose'])\n",
    "df.head()"
   ]
  },
  {
   "cell_type": "code",
   "execution_count": 11,
   "metadata": {},
   "outputs": [],
   "source": [
    "#### Independent And Dependent features\n",
    "X=df.drop('Outcome',axis=1)\n",
    "y=df['Outcome']"
   ]
  },
  {
   "cell_type": "code",
   "execution_count": 12,
   "metadata": {},
   "outputs": [],
   "source": [
    "#### Train Test Split\n",
    "from sklearn.model_selection import train_test_split\n",
    "X_train,X_test,y_train,y_test=train_test_split(X,y,test_size=0.20,random_state=0)"
   ]
  },
  {
   "cell_type": "code",
   "execution_count": 2,
   "metadata": {},
   "outputs": [
    {
     "name": "stdout",
     "output_type": "stream",
     "text": [
      "Collecting hyperopt\n",
      "  Downloading hyperopt-0.2.4-py2.py3-none-any.whl (964 kB)\n",
      "Requirement already satisfied: tqdm in c:\\users\\deepak\\anaconda3\\lib\\site-packages (from hyperopt) (4.44.1)\n",
      "Requirement already satisfied: cloudpickle in c:\\users\\deepak\\anaconda3\\lib\\site-packages (from hyperopt) (1.3.0)\n",
      "Requirement already satisfied: scipy in c:\\users\\deepak\\anaconda3\\lib\\site-packages (from hyperopt) (1.4.1)\n",
      "Requirement already satisfied: six in c:\\users\\deepak\\appdata\\roaming\\python\\python37\\site-packages (from hyperopt) (1.12.0)\n",
      "Requirement already satisfied: future in c:\\users\\deepak\\anaconda3\\lib\\site-packages (from hyperopt) (0.18.2)\n",
      "Requirement already satisfied: networkx>=2.2 in c:\\users\\deepak\\anaconda3\\lib\\site-packages (from hyperopt) (2.4)\n",
      "Requirement already satisfied: numpy in c:\\users\\deepak\\anaconda3\\lib\\site-packages (from hyperopt) (1.18.1)\n",
      "Requirement already satisfied: decorator>=4.3.0 in c:\\users\\deepak\\anaconda3\\lib\\site-packages (from networkx>=2.2->hyperopt) (4.4.2)\n",
      "Installing collected packages: hyperopt\n",
      "Successfully installed hyperopt-0.2.4\n"
     ]
    }
   ],
   "source": [
    "!pip install hyperopt"
   ]
  },
  {
   "cell_type": "code",
   "execution_count": 3,
   "metadata": {},
   "outputs": [],
   "source": [
    "from hyperopt import hp,fmin,tpe,STATUS_OK,Trials"
   ]
  },
  {
   "cell_type": "code",
   "execution_count": 4,
   "metadata": {},
   "outputs": [],
   "source": [
    "space = {'criterion': hp.choice('criterion', ['entropy', 'gini']),\n",
    "        'max_depth': hp.quniform('max_depth', 10, 1200, 10),\n",
    "        'max_features': hp.choice('max_features', ['auto', 'sqrt','log2', None]),\n",
    "        'min_samples_leaf': hp.uniform('min_samples_leaf', 0, 0.5),\n",
    "        'min_samples_split' : hp.uniform ('min_samples_split', 0, 1),\n",
    "        'n_estimators' : hp.choice('n_estimators', [10, 50, 300, 750, 1200,1300,1500])\n",
    "    }\n",
    "\n",
    "\n",
    "## hp.choice to select between a list\n",
    "## hp.quniform to select between a range of no having saome equal\n",
    "## hp.uniform to slecect btween floating no"
   ]
  },
  {
   "cell_type": "code",
   "execution_count": 5,
   "metadata": {},
   "outputs": [
    {
     "data": {
      "text/plain": [
       "{'criterion': <hyperopt.pyll.base.Apply at 0x2a16c279a88>,\n",
       " 'max_depth': <hyperopt.pyll.base.Apply at 0x2a16c279ec8>,\n",
       " 'max_features': <hyperopt.pyll.base.Apply at 0x2a16c282488>,\n",
       " 'min_samples_leaf': <hyperopt.pyll.base.Apply at 0x2a16c282848>,\n",
       " 'min_samples_split': <hyperopt.pyll.base.Apply at 0x2a16c282c08>,\n",
       " 'n_estimators': <hyperopt.pyll.base.Apply at 0x2a16c2844c8>}"
      ]
     },
     "execution_count": 5,
     "metadata": {},
     "output_type": "execute_result"
    }
   ],
   "source": [
    "space"
   ]
  },
  {
   "cell_type": "code",
   "execution_count": 6,
   "metadata": {},
   "outputs": [],
   "source": [
    "from sklearn.ensemble import RandomForestClassifier\n",
    "from sklearn.metrics import confusion_matrix,classification_report,accuracy_score"
   ]
  },
  {
   "cell_type": "code",
   "execution_count": 7,
   "metadata": {},
   "outputs": [],
   "source": [
    "def objective(space):\n",
    "    model = RandomForestClassifier(criterion = space['criterion'], max_depth = space['max_depth'],\n",
    "                                 max_features = space['max_features'],\n",
    "                                 min_samples_leaf = space['min_samples_leaf'],\n",
    "                                 min_samples_split = space['min_samples_split'],\n",
    "                                 n_estimators = space['n_estimators'], \n",
    "                                 )\n",
    "    \n",
    "    accuracy = cross_val_score(model, X_train, y_train, cv = 5).mean()\n",
    "\n",
    "    # We aim to maximize accuracy, therefore we return it as a negative value\n",
    "    return {'loss': -accuracy, 'status': STATUS_OK }"
   ]
  },
  {
   "cell_type": "code",
   "execution_count": 13,
   "metadata": {},
   "outputs": [
    {
     "name": "stdout",
     "output_type": "stream",
     "text": [
      "100%|███████████████████████████████████████████████| 80/80 [11:16<00:00,  8.46s/trial, best loss: -0.7622684259629482]\n"
     ]
    },
    {
     "data": {
      "text/plain": [
       "{'criterion': 0,\n",
       " 'max_depth': 90.0,\n",
       " 'max_features': 2,\n",
       " 'min_samples_leaf': 0.014039745879919538,\n",
       " 'min_samples_split': 0.10785280990155477,\n",
       " 'n_estimators': 4}"
      ]
     },
     "execution_count": 13,
     "metadata": {},
     "output_type": "execute_result"
    }
   ],
   "source": [
    "from sklearn.model_selection import cross_val_score\n",
    "trials = Trials()\n",
    "best = fmin(fn= objective,\n",
    "            space= space,\n",
    "            algo= tpe.suggest,\n",
    "            max_evals = 80,\n",
    "            trials= trials)\n",
    "best"
   ]
  },
  {
   "cell_type": "code",
   "execution_count": 14,
   "metadata": {},
   "outputs": [
    {
     "name": "stdout",
     "output_type": "stream",
     "text": [
      "entropy\n",
      "log2\n",
      "1200\n"
     ]
    }
   ],
   "source": [
    "## Since the above result in in key val pairs the below is done to get the vlue from key val\n",
    "\n",
    "crit = {0: 'entropy', 1: 'gini'}\n",
    "feat = {0: 'auto', 1: 'sqrt', 2: 'log2', 3: None}\n",
    "est = {0: 10, 1: 50, 2: 300, 3: 750, 4: 1200,5:1300,6:1500}\n",
    "\n",
    "\n",
    "print(crit[best['criterion']])\n",
    "print(feat[best['max_features']])\n",
    "print(est[best['n_estimators']])"
   ]
  },
  {
   "cell_type": "code",
   "execution_count": 15,
   "metadata": {},
   "outputs": [
    {
     "name": "stdout",
     "output_type": "stream",
     "text": [
      "---------------------- confusion_matrix -------------------------\n",
      "[[97 10]\n",
      " [22 25]]\n",
      "---------------------- accuracy_score -------------------------\n",
      "0.7922077922077922\n",
      "---------------------- classification_report -------------------------\n",
      "              precision    recall  f1-score   support\n",
      "\n",
      "           0       0.82      0.91      0.86       107\n",
      "           1       0.71      0.53      0.61        47\n",
      "\n",
      "    accuracy                           0.79       154\n",
      "   macro avg       0.76      0.72      0.73       154\n",
      "weighted avg       0.78      0.79      0.78       154\n",
      "\n"
     ]
    }
   ],
   "source": [
    "trainedforest = RandomForestClassifier(criterion = crit[best['criterion']], max_depth = best['max_depth'], \n",
    "                                       max_features = feat[best['max_features']], \n",
    "                                       min_samples_leaf = best['min_samples_leaf'], \n",
    "                                       min_samples_split = best['min_samples_split'], \n",
    "                                       n_estimators = est[best['n_estimators']]).fit(X_train,y_train)\n",
    "predictionforest = trainedforest.predict(X_test)\n",
    "\n",
    "print('---------------------- confusion_matrix -------------------------')\n",
    "print(confusion_matrix(y_test,predictionforest))\n",
    "\n",
    "print('---------------------- accuracy_score -------------------------')\n",
    "print(accuracy_score(y_test,predictionforest))\n",
    "\n",
    "print('---------------------- classification_report -------------------------')\n",
    "print(classification_report(y_test,predictionforest))\n",
    "acc5 = accuracy_score(y_test,predictionforest)"
   ]
  },
  {
   "cell_type": "code",
   "execution_count": 16,
   "metadata": {},
   "outputs": [
    {
     "data": {
      "text/plain": [
       "0.7922077922077922"
      ]
     },
     "execution_count": 16,
     "metadata": {},
     "output_type": "execute_result"
    }
   ],
   "source": [
    "acc5"
   ]
  },
  {
   "cell_type": "markdown",
   "metadata": {},
   "source": [
    "## Genetic Algorithms\n",
    "    Genetic Algorithms tries to apply natural selection mechanisms to Machine Learning contexts.\n",
    "\n",
    "1. Let's immagine we create a population of N Machine Learning models with some predifined Hyperparameters. \n",
    "2. We can then calculate the accuracy of each model and decide to keep just half of the models (the ones that performs best). \n",
    "3. We can now generate some offsprings having similar Hyperparameters to the ones of the best models so that go get again a population of N models. \n",
    "4. At this point we can again calculate the accuracy of each model and repeate the cycle for a defined number of generations. \n",
    "5. In this way, just the best models will survive at the end of the process."
   ]
  },
  {
   "cell_type": "code",
   "execution_count": 17,
   "metadata": {},
   "outputs": [
    {
     "name": "stdout",
     "output_type": "stream",
     "text": [
      "{'n_estimators': [200, 400, 600, 800, 1000, 1200, 1400, 1600, 1800, 2000], 'max_features': ['auto', 'sqrt', 'log2'], 'max_depth': [10, 120, 230, 340, 450, 560, 670, 780, 890, 1000], 'min_samples_split': [2, 5, 10, 14], 'min_samples_leaf': [1, 2, 4, 6, 8], 'criterion': ['entropy', 'gini']}\n"
     ]
    }
   ],
   "source": [
    "import numpy as np\n",
    "\n",
    "from sklearn.model_selection import RandomizedSearchCV\n",
    "# Number of trees in random forest\n",
    "n_estimators = [int(x) for x in np.linspace(start = 200, stop = 2000, num = 10)]\n",
    "# Number of features to consider at every split\n",
    "max_features = ['auto', 'sqrt','log2']\n",
    "# Maximum number of levels in tree\n",
    "max_depth = [int(x) for x in np.linspace(10, 1000,10)]\n",
    "# Minimum number of samples required to split a node\n",
    "min_samples_split = [2, 5, 10,14]\n",
    "# Minimum number of samples required at each leaf node\n",
    "min_samples_leaf = [1, 2, 4,6,8]\n",
    "# Create the random grid\n",
    "param = {'n_estimators': n_estimators,\n",
    "               'max_features': max_features,\n",
    "               'max_depth': max_depth,\n",
    "               'min_samples_split': min_samples_split,\n",
    "               'min_samples_leaf': min_samples_leaf,\n",
    "              'criterion':['entropy','gini']}\n",
    "print(param)"
   ]
  },
  {
   "cell_type": "code",
   "execution_count": 18,
   "metadata": {},
   "outputs": [
    {
     "name": "stdout",
     "output_type": "stream",
     "text": [
      "Collecting tpot\n",
      "  Downloading TPOT-0.11.5-py3-none-any.whl (82 kB)\n",
      "Requirement already satisfied: scikit-learn>=0.22.0 in c:\\users\\deepak\\anaconda3\\lib\\site-packages (from tpot) (0.22.1)\n",
      "Requirement already satisfied: tqdm>=4.36.1 in c:\\users\\deepak\\anaconda3\\lib\\site-packages (from tpot) (4.44.1)\n",
      "Collecting deap>=1.2\n",
      "  Downloading deap-1.3.1-cp37-cp37m-win_amd64.whl (108 kB)\n",
      "Requirement already satisfied: numpy>=1.16.3 in c:\\users\\deepak\\anaconda3\\lib\\site-packages (from tpot) (1.18.1)\n",
      "Collecting update-checker>=0.16\n",
      "  Downloading update_checker-0.17-py2.py3-none-any.whl (7.0 kB)\n",
      "Requirement already satisfied: pandas>=0.24.2 in c:\\users\\deepak\\anaconda3\\lib\\site-packages (from tpot) (1.0.3)\n",
      "Collecting stopit>=1.1.1\n",
      "  Downloading stopit-1.1.2.tar.gz (18 kB)\n",
      "Requirement already satisfied: joblib>=0.13.2 in c:\\users\\deepak\\anaconda3\\lib\\site-packages (from tpot) (0.14.1)\n",
      "Requirement already satisfied: scipy>=1.3.1 in c:\\users\\deepak\\anaconda3\\lib\\site-packages (from tpot) (1.4.1)\n",
      "Requirement already satisfied: requests>=2.3.0 in c:\\users\\deepak\\anaconda3\\lib\\site-packages (from update-checker>=0.16->tpot) (2.23.0)\n",
      "Requirement already satisfied: python-dateutil>=2.6.1 in c:\\users\\deepak\\anaconda3\\lib\\site-packages (from pandas>=0.24.2->tpot) (2.8.1)\n",
      "Requirement already satisfied: pytz>=2017.2 in c:\\users\\deepak\\anaconda3\\lib\\site-packages (from pandas>=0.24.2->tpot) (2019.3)\n",
      "Requirement already satisfied: chardet<4,>=3.0.2 in c:\\users\\deepak\\anaconda3\\lib\\site-packages (from requests>=2.3.0->update-checker>=0.16->tpot) (3.0.4)\n",
      "Requirement already satisfied: urllib3!=1.25.0,!=1.25.1,<1.26,>=1.21.1 in c:\\users\\deepak\\anaconda3\\lib\\site-packages (from requests>=2.3.0->update-checker>=0.16->tpot) (1.25.8)\n",
      "Requirement already satisfied: certifi>=2017.4.17 in c:\\users\\deepak\\anaconda3\\lib\\site-packages (from requests>=2.3.0->update-checker>=0.16->tpot) (2020.4.5.1)\n",
      "Requirement already satisfied: idna<3,>=2.5 in c:\\users\\deepak\\anaconda3\\lib\\site-packages (from requests>=2.3.0->update-checker>=0.16->tpot) (2.9)\n",
      "Requirement already satisfied: six>=1.5 in c:\\users\\deepak\\appdata\\roaming\\python\\python37\\site-packages (from python-dateutil>=2.6.1->pandas>=0.24.2->tpot) (1.12.0)\n",
      "Building wheels for collected packages: stopit\n",
      "  Building wheel for stopit (setup.py): started\n",
      "  Building wheel for stopit (setup.py): finished with status 'done'\n",
      "  Created wheel for stopit: filename=stopit-1.1.2-py3-none-any.whl size=11959 sha256=d91aef9c7180479112cd743c11a393594664e025ad74b61ab0817c3df2eba800\n",
      "  Stored in directory: c:\\users\\deepak\\appdata\\local\\pip\\cache\\wheels\\e2\\d2\\79\\eaf81edb391e27c87f51b8ef901ecc85a5363dc96b8b8d71e3\n",
      "Successfully built stopit\n",
      "Installing collected packages: deap, update-checker, stopit, tpot\n",
      "Successfully installed deap-1.3.1 stopit-1.1.2 tpot-0.11.5 update-checker-0.17\n"
     ]
    }
   ],
   "source": [
    "!pip install tpot\n",
    "\n",
    "## needs tensflow to be installed"
   ]
  },
  {
   "cell_type": "code",
   "execution_count": 19,
   "metadata": {},
   "outputs": [
    {
     "data": {
      "application/vnd.jupyter.widget-view+json": {
       "model_id": "",
       "version_major": 2,
       "version_minor": 0
      },
      "text/plain": [
       "HBox(children=(FloatProgress(value=0.0, description='Optimization Progress', max=84.0, style=ProgressStyle(des…"
      ]
     },
     "metadata": {},
     "output_type": "display_data"
    },
    {
     "name": "stdout",
     "output_type": "stream",
     "text": [
      "\n",
      "Generation 1 - Current best internal CV score: 0.7606209150326797\n",
      "Generation 2 - Current best internal CV score: 0.7606209150326797\n",
      "Generation 3 - Current best internal CV score: 0.7622336813513284\n",
      "Generation 4 - Current best internal CV score: 0.7622336813513284\n",
      "Generation 5 - Current best internal CV score: 0.7622336813513284\n",
      "Best pipeline: RandomForestClassifier(RandomForestClassifier(input_matrix, criterion=gini, max_depth=780, max_features=auto, min_samples_leaf=4, min_samples_split=2, n_estimators=2000), criterion=gini, max_depth=890, max_features=log2, min_samples_leaf=6, min_samples_split=5, n_estimators=1800)\n"
     ]
    },
    {
     "data": {
      "text/plain": [
       "TPOTClassifier(config_dict={'sklearn.ensemble.RandomForestClassifier': {'criterion': ['entropy',\n",
       "                                                                                      'gini'],\n",
       "                                                                        'max_depth': [10,\n",
       "                                                                                      120,\n",
       "                                                                                      230,\n",
       "                                                                                      340,\n",
       "                                                                                      450,\n",
       "                                                                                      560,\n",
       "                                                                                      670,\n",
       "                                                                                      780,\n",
       "                                                                                      890,\n",
       "                                                                                      1000],\n",
       "                                                                        'max_features': ['auto',\n",
       "                                                                                         'sqrt',\n",
       "                                                                                         'log2'],\n",
       "                                                                        'min_samples_leaf': [1,\n",
       "                                                                                             2,\n",
       "                                                                                             4,\n",
       "                                                                                             6,\n",
       "                                                                                             8],\n",
       "                                                                        'min_samples_split': [2,\n",
       "                                                                                              5,\n",
       "                                                                                              10,\n",
       "                                                                                              14],\n",
       "                                                                        'n_estimators': [200,\n",
       "                                                                                         400,\n",
       "                                                                                         600,\n",
       "                                                                                         800,\n",
       "                                                                                         1000,\n",
       "                                                                                         1200,\n",
       "                                                                                         1400,\n",
       "                                                                                         1600,\n",
       "                                                                                         1800,\n",
       "                                                                                         2000]}},\n",
       "               crossover_rate=0.1, cv=4, disa...\n",
       "               early_stop=12, generations=5,\n",
       "               log_file=<ipykernel.iostream.OutStream object at 0x000002A1695EDF88>,\n",
       "               max_eval_time_mins=5, max_time_mins=None, memory=None,\n",
       "               mutation_rate=0.9, n_jobs=1, offspring_size=12,\n",
       "               periodic_checkpoint_folder=None, population_size=24,\n",
       "               random_state=None, scoring='accuracy', subsample=1.0,\n",
       "               template=None, use_dask=False, verbosity=2, warm_start=False)"
      ]
     },
     "execution_count": 19,
     "metadata": {},
     "output_type": "execute_result"
    }
   ],
   "source": [
    "from tpot import TPOTClassifier\n",
    "\n",
    "\n",
    "tpot_classifier = TPOTClassifier(generations= 5, population_size= 24, offspring_size= 12,\n",
    "                                 verbosity= 2, early_stop= 12,\n",
    "                                 config_dict={'sklearn.ensemble.RandomForestClassifier': param}, \n",
    "                                 cv = 4, scoring = 'accuracy')\n",
    "tpot_classifier.fit(X_train,y_train)"
   ]
  },
  {
   "cell_type": "code",
   "execution_count": 20,
   "metadata": {},
   "outputs": [
    {
     "name": "stdout",
     "output_type": "stream",
     "text": [
      "0.8376623376623377\n"
     ]
    }
   ],
   "source": [
    "accuracy = tpot_classifier.score(X_test, y_test)\n",
    "print(accuracy)"
   ]
  },
  {
   "cell_type": "markdown",
   "metadata": {},
   "source": [
    "## Optimize hyperparameters of the model using Optuna\n",
    "## Optuna\n",
    "\n",
    "1. The hyperparameters of the above algorithm are n_estimators and max_depth for which we can try different values to see if the model accuracy can be improved. \n",
    "2. The objective function is modified to accept a trial object. \n",
    "3. This trial has several methods for sampling hyperparameters. \n",
    "4. We create a study to run the hyperparameter optimization and finally read the best hyperparameters."
   ]
  },
  {
   "cell_type": "code",
   "execution_count": 21,
   "metadata": {},
   "outputs": [
    {
     "name": "stdout",
     "output_type": "stream",
     "text": [
      "Collecting optuna"
     ]
    },
    {
     "name": "stderr",
     "output_type": "stream",
     "text": [
      "ERROR: pytest-astropy 0.8.0 requires pytest-cov>=2.0, which is not installed.\n",
      "ERROR: pytest-astropy 0.8.0 requires pytest-filter-subpackage>=0.1, which is not installed.\n"
     ]
    },
    {
     "name": "stdout",
     "output_type": "stream",
     "text": [
      "\n",
      "  Downloading optuna-1.5.0.tar.gz (200 kB)\n",
      "Collecting alembic\n",
      "  Downloading alembic-1.4.2.tar.gz (1.1 MB)\n",
      "  Installing build dependencies: started\n",
      "  Installing build dependencies: finished with status 'done'\n",
      "  Getting requirements to build wheel: started\n",
      "  Getting requirements to build wheel: finished with status 'done'\n",
      "    Preparing wheel metadata: started\n",
      "    Preparing wheel metadata: finished with status 'done'\n",
      "Collecting cliff\n",
      "  Downloading cliff-3.3.0-py3-none-any.whl (81 kB)\n",
      "Collecting cmaes>=0.5.0\n",
      "  Downloading cmaes-0.5.1-py3-none-any.whl (12 kB)\n",
      "Collecting colorlog\n",
      "  Downloading colorlog-4.2.1-py2.py3-none-any.whl (14 kB)\n",
      "Requirement already satisfied: joblib in c:\\users\\deepak\\anaconda3\\lib\\site-packages (from optuna) (0.14.1)\n",
      "Requirement already satisfied: numpy in c:\\users\\deepak\\anaconda3\\lib\\site-packages (from optuna) (1.18.1)\n",
      "Requirement already satisfied: scipy!=1.4.0 in c:\\users\\deepak\\anaconda3\\lib\\site-packages (from optuna) (1.4.1)\n",
      "Requirement already satisfied: sqlalchemy>=1.1.0 in c:\\users\\deepak\\anaconda3\\lib\\site-packages (from optuna) (1.3.15)\n",
      "Requirement already satisfied: tqdm in c:\\users\\deepak\\anaconda3\\lib\\site-packages (from optuna) (4.44.1)\n",
      "Collecting python-editor>=0.3\n",
      "  Downloading python_editor-1.0.4-py3-none-any.whl (4.9 kB)\n",
      "Collecting Mako\n",
      "  Downloading Mako-1.1.3-py2.py3-none-any.whl (75 kB)\n",
      "Requirement already satisfied: python-dateutil in c:\\users\\deepak\\anaconda3\\lib\\site-packages (from alembic->optuna) (2.8.1)\n",
      "Collecting PrettyTable<0.8,>=0.7.2\n",
      "  Downloading prettytable-0.7.2.tar.bz2 (21 kB)\n",
      "Collecting stevedore>=1.20.0\n",
      "  Downloading stevedore-3.2.0-py3-none-any.whl (42 kB)\n",
      "Collecting pbr!=2.1.0,>=2.0.0\n",
      "  Downloading pbr-5.4.5-py2.py3-none-any.whl (110 kB)\n",
      "Requirement already satisfied: PyYAML>=3.12 in c:\\users\\deepak\\anaconda3\\lib\\site-packages (from cliff->optuna) (5.3.1)\n",
      "Requirement already satisfied: pyparsing>=2.1.0 in c:\\users\\deepak\\anaconda3\\lib\\site-packages (from cliff->optuna) (2.4.6)\n",
      "Requirement already satisfied: six>=1.10.0 in c:\\users\\deepak\\appdata\\roaming\\python\\python37\\site-packages (from cliff->optuna) (1.12.0)\n",
      "Collecting cmd2!=0.8.3,>=0.8.0\n",
      "  Downloading cmd2-1.2.1-py3-none-any.whl (121 kB)\n",
      "Requirement already satisfied: colorama; sys_platform == \"win32\" in c:\\users\\deepak\\appdata\\roaming\\python\\python37\\site-packages (from colorlog->optuna) (0.4.1)\n",
      "Requirement already satisfied: MarkupSafe>=0.9.2 in c:\\users\\deepak\\anaconda3\\lib\\site-packages (from Mako->alembic->optuna) (1.1.1)\n",
      "Collecting importlib-metadata>=1.7.0; python_version < \"3.8\"\n",
      "  Using cached importlib_metadata-1.7.0-py2.py3-none-any.whl (31 kB)\n",
      "Requirement already satisfied: attrs>=16.3.0 in c:\\users\\deepak\\anaconda3\\lib\\site-packages (from cmd2!=0.8.3,>=0.8.0->cliff->optuna) (19.3.0)\n",
      "Collecting pyperclip>=1.6\n",
      "  Downloading pyperclip-1.8.0.tar.gz (16 kB)\n",
      "Requirement already satisfied: pyreadline; sys_platform == \"win32\" in c:\\users\\deepak\\anaconda3\\lib\\site-packages (from cmd2!=0.8.3,>=0.8.0->cliff->optuna) (2.1)\n",
      "Requirement already satisfied: setuptools>=34.4 in c:\\users\\deepak\\anaconda3\\lib\\site-packages (from cmd2!=0.8.3,>=0.8.0->cliff->optuna) (46.1.3.post20200330)\n",
      "Requirement already satisfied: wcwidth>=0.1.7 in c:\\users\\deepak\\anaconda3\\lib\\site-packages (from cmd2!=0.8.3,>=0.8.0->cliff->optuna) (0.1.9)\n",
      "Requirement already satisfied: zipp>=0.5 in c:\\users\\deepak\\anaconda3\\lib\\site-packages (from importlib-metadata>=1.7.0; python_version < \"3.8\"->stevedore>=1.20.0->cliff->optuna) (2.2.0)\n",
      "Building wheels for collected packages: optuna, alembic, PrettyTable, pyperclip\n",
      "  Building wheel for optuna (setup.py): started\n",
      "  Building wheel for optuna (setup.py): finished with status 'done'\n",
      "  Created wheel for optuna: filename=optuna-1.5.0-py3-none-any.whl size=276148 sha256=2e14ff97f890365c10db84bd812ea577b0c9b59cb48d0ad0f554dde0af6a7b78\n",
      "  Stored in directory: c:\\users\\deepak\\appdata\\local\\pip\\cache\\wheels\\0a\\f9\\1b\\1c068c5fb648ad0a4600c104495c61ae780a2f3bcf52bcd676\n",
      "  Building wheel for alembic (PEP 517): started\n",
      "  Building wheel for alembic (PEP 517): finished with status 'done'\n",
      "  Created wheel for alembic: filename=alembic-1.4.2-py2.py3-none-any.whl size=159547 sha256=7ba2c0f6c8f2e7d49e99b37e291d072785142d87665678066e2c1e344764ad14\n",
      "  Stored in directory: c:\\users\\deepak\\appdata\\local\\pip\\cache\\wheels\\4e\\b5\\00\\f93fe1c90b3d501774e91e2e99987f49d16019e40e4bd3afc3\n",
      "  Building wheel for PrettyTable (setup.py): started\n",
      "  Building wheel for PrettyTable (setup.py): finished with status 'done'\n",
      "  Created wheel for PrettyTable: filename=prettytable-0.7.2-py3-none-any.whl size=13704 sha256=e05088215d45b7b2280eec5d0f1d08693eb6c83967afa163721a0334216e1efe\n",
      "  Stored in directory: c:\\users\\deepak\\appdata\\local\\pip\\cache\\wheels\\8c\\76\\0b\\eb9eb3da7e2335e3577e3f96a0ae9f74f206e26457bd1a2bc8\n",
      "  Building wheel for pyperclip (setup.py): started\n",
      "  Building wheel for pyperclip (setup.py): finished with status 'done'\n",
      "  Created wheel for pyperclip: filename=pyperclip-1.8.0-py3-none-any.whl size=8696 sha256=a1714bf132530325b684dc56e3cb9199764a15dd0ba42d83a8438cbdc9d0d9f5\n",
      "  Stored in directory: c:\\users\\deepak\\appdata\\local\\pip\\cache\\wheels\\e5\\5e\\f7\\441179ddf6ac56f36cb1d84d94f35beedd5da15986ce3d321d\n",
      "Successfully built optuna alembic PrettyTable pyperclip\n",
      "Installing collected packages: python-editor, Mako, alembic, PrettyTable, importlib-metadata, pbr, stevedore, pyperclip, cmd2, cliff, cmaes, colorlog, optuna\n",
      "  Attempting uninstall: importlib-metadata\n",
      "    Found existing installation: importlib-metadata 1.5.0\n",
      "    Uninstalling importlib-metadata-1.5.0:\n",
      "      Successfully uninstalled importlib-metadata-1.5.0\n",
      "Successfully installed Mako-1.1.3 PrettyTable-0.7.2 alembic-1.4.2 cliff-3.3.0 cmaes-0.5.1 cmd2-1.2.1 colorlog-4.2.1 importlib-metadata-1.7.0 optuna-1.5.0 pbr-5.4.5 pyperclip-1.8.0 python-editor-1.0.4 stevedore-3.2.0\n"
     ]
    }
   ],
   "source": [
    "!pip install optuna\n"
   ]
  },
  {
   "cell_type": "code",
   "execution_count": 22,
   "metadata": {},
   "outputs": [],
   "source": [
    "import optuna\n",
    "import sklearn.svm\n",
    "def objective(trial):\n",
    "\n",
    "    classifier = trial.suggest_categorical('classifier', ['RandomForest', 'SVC'])\n",
    "    \n",
    "    if classifier == 'RandomForest':\n",
    "        n_estimators = trial.suggest_int('n_estimators', 200, 2000,10)\n",
    "        max_depth = int(trial.suggest_float('max_depth', 10, 100, log=True))\n",
    "\n",
    "        clf = sklearn.ensemble.RandomForestClassifier(\n",
    "            n_estimators=n_estimators, max_depth=max_depth)\n",
    "    else:\n",
    "        c = trial.suggest_float('svc_c', 1e-10, 1e10, log=True)\n",
    "        \n",
    "        clf = sklearn.svm.SVC(C=c, gamma='auto')\n",
    "\n",
    "    return sklearn.model_selection.cross_val_score(\n",
    "        clf,X_train,y_train, n_jobs=-1, cv=3).mean()"
   ]
  },
  {
   "cell_type": "code",
   "execution_count": 23,
   "metadata": {},
   "outputs": [
    {
     "name": "stderr",
     "output_type": "stream",
     "text": [
      "[I 2020-07-26 11:06:44,666] Finished trial#0 with value: 0.640068547744301 with parameters: {'classifier': 'SVC', 'svc_c': 4.620567714545393}. Best is trial#0 with value: 0.640068547744301.\n",
      "[I 2020-07-26 11:06:50,347] Finished trial#1 with value: 0.7507970667941973 with parameters: {'classifier': 'RandomForest', 'n_estimators': 1360, 'max_depth': 32.917356765853285}. Best is trial#1 with value: 0.7507970667941973.\n",
      "[I 2020-07-26 11:06:52,653] Finished trial#2 with value: 0.7475450342738722 with parameters: {'classifier': 'RandomForest', 'n_estimators': 640, 'max_depth': 44.58695933445998}. Best is trial#1 with value: 0.7507970667941973.\n",
      "[I 2020-07-26 11:07:00,108] Finished trial#3 with value: 0.7524310537223019 with parameters: {'classifier': 'RandomForest', 'n_estimators': 810, 'max_depth': 22.23830168249349}. Best is trial#3 with value: 0.7524310537223019.\n",
      "[I 2020-07-26 11:07:18,748] Finished trial#4 with value: 0.7491790212019768 with parameters: {'classifier': 'RandomForest', 'n_estimators': 1350, 'max_depth': 39.56388176048104}. Best is trial#3 with value: 0.7524310537223019.\n",
      "[I 2020-07-26 11:07:19,159] Finished trial#5 with value: 0.640068547744301 with parameters: {'classifier': 'SVC', 'svc_c': 0.0033706478307521004}. Best is trial#3 with value: 0.7524310537223019.\n",
      "[I 2020-07-26 11:07:44,314] Finished trial#6 with value: 0.7524390243902439 with parameters: {'classifier': 'RandomForest', 'n_estimators': 1970, 'max_depth': 15.021339609438146}. Best is trial#6 with value: 0.7524390243902439.\n",
      "[I 2020-07-26 11:07:52,169] Finished trial#7 with value: 0.7508050374621393 with parameters: {'classifier': 'RandomForest', 'n_estimators': 620, 'max_depth': 10.148679314710286}. Best is trial#6 with value: 0.7524390243902439.\n",
      "[I 2020-07-26 11:08:11,732] Finished trial#8 with value: 0.7524310537223019 with parameters: {'classifier': 'RandomForest', 'n_estimators': 1390, 'max_depth': 26.240409720438226}. Best is trial#6 with value: 0.7524390243902439.\n",
      "[I 2020-07-26 11:08:28,030] Finished trial#9 with value: 0.7524310537223019 with parameters: {'classifier': 'RandomForest', 'n_estimators': 1580, 'max_depth': 23.451186324928504}. Best is trial#6 with value: 0.7524390243902439.\n",
      "[I 2020-07-26 11:08:28,275] Finished trial#10 with value: 0.640068547744301 with parameters: {'classifier': 'SVC', 'svc_c': 8179618047.299119}. Best is trial#6 with value: 0.7524390243902439.\n",
      "[I 2020-07-26 11:08:35,361] Finished trial#11 with value: 0.7507970667941973 with parameters: {'classifier': 'RandomForest', 'n_estimators': 1970, 'max_depth': 13.017185333047996}. Best is trial#6 with value: 0.7524390243902439.\n",
      "[I 2020-07-26 11:08:36,356] Finished trial#12 with value: 0.7345289335246293 with parameters: {'classifier': 'RandomForest', 'n_estimators': 250, 'max_depth': 91.10552640574105}. Best is trial#6 with value: 0.7524390243902439.\n",
      "[I 2020-07-26 11:08:39,454] Finished trial#13 with value: 0.7540490993145226 with parameters: {'classifier': 'RandomForest', 'n_estimators': 890, 'max_depth': 15.333171236147894}. Best is trial#13 with value: 0.7540490993145226.\n",
      "[I 2020-07-26 11:08:46,578] Finished trial#14 with value: 0.7540490993145226 with parameters: {'classifier': 'RandomForest', 'n_estimators': 1960, 'max_depth': 14.930583235459807}. Best is trial#13 with value: 0.7540490993145226.\n",
      "[I 2020-07-26 11:08:50,213] Finished trial#15 with value: 0.7540570699824646 with parameters: {'classifier': 'RandomForest', 'n_estimators': 990, 'max_depth': 15.969824179259234}. Best is trial#15 with value: 0.7540570699824646.\n",
      "[I 2020-07-26 11:08:53,873] Finished trial#16 with value: 0.7507970667941973 with parameters: {'classifier': 'RandomForest', 'n_estimators': 920, 'max_depth': 10.58273764988713}. Best is trial#15 with value: 0.7540570699824646.\n",
      "[I 2020-07-26 11:08:54,020] Finished trial#17 with value: 0.640068547744301 with parameters: {'classifier': 'SVC', 'svc_c': 1.278765690204103e-08}. Best is trial#15 with value: 0.7540570699824646.\n",
      "[I 2020-07-26 11:08:59,947] Finished trial#18 with value: 0.7540730113183485 with parameters: {'classifier': 'RandomForest', 'n_estimators': 1740, 'max_depth': 18.332272307691}. Best is trial#18 with value: 0.7540730113183485.\n",
      "[I 2020-07-26 11:09:05,602] Finished trial#19 with value: 0.7524390243902439 with parameters: {'classifier': 'RandomForest', 'n_estimators': 1640, 'max_depth': 18.486313662374215}. Best is trial#18 with value: 0.7540730113183485.\n",
      "[I 2020-07-26 11:09:05,755] Finished trial#20 with value: 0.640068547744301 with parameters: {'classifier': 'SVC', 'svc_c': 1791809455.3927312}. Best is trial#18 with value: 0.7540730113183485.\n",
      "[I 2020-07-26 11:09:11,748] Finished trial#21 with value: 0.7573250438386737 with parameters: {'classifier': 'RandomForest', 'n_estimators': 1780, 'max_depth': 17.715872173803113}. Best is trial#21 with value: 0.7573250438386737.\n",
      "[I 2020-07-26 11:09:15,877] Finished trial#22 with value: 0.75242308305436 with parameters: {'classifier': 'RandomForest', 'n_estimators': 1150, 'max_depth': 18.856342454372694}. Best is trial#21 with value: 0.7573250438386737.\n",
      "[I 2020-07-26 11:09:21,828] Finished trial#23 with value: 0.744293001753547 with parameters: {'classifier': 'RandomForest', 'n_estimators': 1730, 'max_depth': 10.895252793426247}. Best is trial#21 with value: 0.7573250438386737.\n",
      "[I 2020-07-26 11:09:25,735] Finished trial#24 with value: 0.7475450342738722 with parameters: {'classifier': 'RandomForest', 'n_estimators': 1150, 'max_depth': 18.90876442090733}. Best is trial#21 with value: 0.7573250438386737.\n",
      "[I 2020-07-26 11:09:31,784] Finished trial#25 with value: 0.7540570699824646 with parameters: {'classifier': 'RandomForest', 'n_estimators': 1770, 'max_depth': 29.108274666482313}. Best is trial#21 with value: 0.7573250438386737.\n",
      "[I 2020-07-26 11:09:38,141] Finished trial#26 with value: 0.7507970667941973 with parameters: {'classifier': 'RandomForest', 'n_estimators': 1800, 'max_depth': 30.342114579853003}. Best is trial#21 with value: 0.7573250438386737.\n",
      "[I 2020-07-26 11:09:43,410] Finished trial#27 with value: 0.7475370636059302 with parameters: {'classifier': 'RandomForest', 'n_estimators': 1470, 'max_depth': 12.69844015056605}. Best is trial#21 with value: 0.7573250438386737.\n",
      "[I 2020-07-26 11:09:47,324] Finished trial#28 with value: 0.7508050374621393 with parameters: {'classifier': 'RandomForest', 'n_estimators': 1060, 'max_depth': 59.154242976944474}. Best is trial#21 with value: 0.7573250438386737.\n",
      "[I 2020-07-26 11:09:47,474] Finished trial#29 with value: 0.640068547744301 with parameters: {'classifier': 'SVC', 'svc_c': 1.7046470935726437e-10}. Best is trial#21 with value: 0.7573250438386737.\n",
      "[I 2020-07-26 11:09:53,827] Finished trial#30 with value: 0.7540570699824646 with parameters: {'classifier': 'RandomForest', 'n_estimators': 1850, 'max_depth': 28.368849251329184}. Best is trial#21 with value: 0.7573250438386737.\n",
      "[I 2020-07-26 11:09:59,429] Finished trial#31 with value: 0.7605770763589988 with parameters: {'classifier': 'RandomForest', 'n_estimators': 1630, 'max_depth': 21.80337012847624}. Best is trial#31 with value: 0.7605770763589988.\n",
      "[I 2020-07-26 11:10:04,886] Finished trial#32 with value: 0.7491710505340348 with parameters: {'classifier': 'RandomForest', 'n_estimators': 1610, 'max_depth': 21.07704927798918}. Best is trial#31 with value: 0.7605770763589988.\n",
      "[I 2020-07-26 11:10:11,157] Finished trial#33 with value: 0.7508050374621393 with parameters: {'classifier': 'RandomForest', 'n_estimators': 1860, 'max_depth': 26.480928601855112}. Best is trial#31 with value: 0.7605770763589988.\n",
      "[I 2020-07-26 11:10:17,619] Finished trial#34 with value: 0.7508050374621393 with parameters: {'classifier': 'RandomForest', 'n_estimators': 1890, 'max_depth': 40.23568068961912}. Best is trial#31 with value: 0.7605770763589988.\n",
      "[I 2020-07-26 11:10:23,777] Finished trial#35 with value: 0.7556910569105691 with parameters: {'classifier': 'RandomForest', 'n_estimators': 1710, 'max_depth': 34.51602380773928}. Best is trial#31 with value: 0.7605770763589988.\n"
     ]
    },
    {
     "name": "stderr",
     "output_type": "stream",
     "text": [
      "[I 2020-07-26 11:10:28,839] Finished trial#36 with value: 0.7459269886816515 with parameters: {'classifier': 'RandomForest', 'n_estimators': 1490, 'max_depth': 35.1417149884023}. Best is trial#31 with value: 0.7605770763589988.\n",
      "[I 2020-07-26 11:10:33,207] Finished trial#37 with value: 0.7508050374621393 with parameters: {'classifier': 'RandomForest', 'n_estimators': 1260, 'max_depth': 53.13414446095385}. Best is trial#31 with value: 0.7605770763589988.\n",
      "[I 2020-07-26 11:10:38,911] Finished trial#38 with value: 0.7524310537223019 with parameters: {'classifier': 'RandomForest', 'n_estimators': 1690, 'max_depth': 24.64669624572094}. Best is trial#31 with value: 0.7605770763589988.\n",
      "[I 2020-07-26 11:10:46,286] Finished trial#39 with value: 0.7508130081300813 with parameters: {'classifier': 'RandomForest', 'n_estimators': 1550, 'max_depth': 33.00937373850031}. Best is trial#31 with value: 0.7605770763589988.\n",
      "[I 2020-07-26 11:10:53,760] Finished trial#40 with value: 0.7475450342738722 with parameters: {'classifier': 'RandomForest', 'n_estimators': 1710, 'max_depth': 21.46815647509974}. Best is trial#31 with value: 0.7605770763589988.\n",
      "[I 2020-07-26 11:11:00,513] Finished trial#41 with value: 0.7573170731707317 with parameters: {'classifier': 'RandomForest', 'n_estimators': 1780, 'max_depth': 18.084009182255997}. Best is trial#31 with value: 0.7605770763589988.\n",
      "[I 2020-07-26 11:11:06,452] Finished trial#42 with value: 0.7524310537223019 with parameters: {'classifier': 'RandomForest', 'n_estimators': 1790, 'max_depth': 17.32128191652016}. Best is trial#31 with value: 0.7605770763589988.\n",
      "[I 2020-07-26 11:11:13,408] Finished trial#43 with value: 0.7491710505340348 with parameters: {'classifier': 'RandomForest', 'n_estimators': 1990, 'max_depth': 12.814250984045886}. Best is trial#31 with value: 0.7605770763589988.\n",
      "[I 2020-07-26 11:11:18,200] Finished trial#44 with value: 0.7491790212019768 with parameters: {'classifier': 'RandomForest', 'n_estimators': 1350, 'max_depth': 20.514050035314856}. Best is trial#31 with value: 0.7605770763589988.\n",
      "[I 2020-07-26 11:11:23,356] Finished trial#45 with value: 0.7540650406504065 with parameters: {'classifier': 'RandomForest', 'n_estimators': 1490, 'max_depth': 22.317551176955543}. Best is trial#31 with value: 0.7605770763589988.\n",
      "[I 2020-07-26 11:11:29,919] Finished trial#46 with value: 0.7508050374621393 with parameters: {'classifier': 'RandomForest', 'n_estimators': 1890, 'max_depth': 16.993103235524092}. Best is trial#31 with value: 0.7605770763589988.\n",
      "[I 2020-07-26 11:11:30,050] Finished trial#47 with value: 0.640068547744301 with parameters: {'classifier': 'SVC', 'svc_c': 11019.315171088156}. Best is trial#31 with value: 0.7605770763589988.\n",
      "[I 2020-07-26 11:11:35,593] Finished trial#48 with value: 0.7524310537223019 with parameters: {'classifier': 'RandomForest', 'n_estimators': 1640, 'max_depth': 37.517046274817226}. Best is trial#31 with value: 0.7605770763589988.\n",
      "[I 2020-07-26 11:11:42,422] Finished trial#49 with value: 0.7491869918699187 with parameters: {'classifier': 'RandomForest', 'n_estimators': 2000, 'max_depth': 14.74685162906844}. Best is trial#31 with value: 0.7605770763589988.\n",
      "[I 2020-07-26 11:11:47,727] Finished trial#50 with value: 0.7540570699824646 with parameters: {'classifier': 'RandomForest', 'n_estimators': 1550, 'max_depth': 24.779350412638845}. Best is trial#31 with value: 0.7605770763589988.\n",
      "[I 2020-07-26 11:11:52,688] Finished trial#51 with value: 0.7524310537223019 with parameters: {'classifier': 'RandomForest', 'n_estimators': 1450, 'max_depth': 21.675570145584985}. Best is trial#31 with value: 0.7605770763589988.\n",
      "[I 2020-07-26 11:11:58,396] Finished trial#52 with value: 0.7426590148254424 with parameters: {'classifier': 'RandomForest', 'n_estimators': 1660, 'max_depth': 47.438340004003585}. Best is trial#31 with value: 0.7605770763589988.\n",
      "[I 2020-07-26 11:12:02,828] Finished trial#53 with value: 0.7524310537223019 with parameters: {'classifier': 'RandomForest', 'n_estimators': 1290, 'max_depth': 23.551524212521798}. Best is trial#31 with value: 0.7605770763589988.\n",
      "[I 2020-07-26 11:12:08,812] Finished trial#54 with value: 0.7508050374621393 with parameters: {'classifier': 'RandomForest', 'n_estimators': 1750, 'max_depth': 19.5580885668042}. Best is trial#31 with value: 0.7605770763589988.\n",
      "[I 2020-07-26 11:12:14,149] Finished trial#55 with value: 0.7524390243902439 with parameters: {'classifier': 'RandomForest', 'n_estimators': 1570, 'max_depth': 13.751156151777781}. Best is trial#31 with value: 0.7605770763589988.\n",
      "[I 2020-07-26 11:12:20,663] Finished trial#56 with value: 0.7491790212019768 with parameters: {'classifier': 'RandomForest', 'n_estimators': 1910, 'max_depth': 16.621118513090963}. Best is trial#31 with value: 0.7605770763589988.\n",
      "[I 2020-07-26 11:12:22,996] Finished trial#57 with value: 0.7475370636059302 with parameters: {'classifier': 'RandomForest', 'n_estimators': 650, 'max_depth': 26.980843762189537}. Best is trial#31 with value: 0.7605770763589988.\n",
      "[I 2020-07-26 11:12:23,107] Finished trial#58 with value: 0.640068547744301 with parameters: {'classifier': 'SVC', 'svc_c': 1.0612951333828601e-05}. Best is trial#31 with value: 0.7605770763589988.\n",
      "[I 2020-07-26 11:12:29,860] Finished trial#59 with value: 0.7524390243902439 with parameters: {'classifier': 'RandomForest', 'n_estimators': 1810, 'max_depth': 11.73715683957973}. Best is trial#31 with value: 0.7605770763589988.\n",
      "[I 2020-07-26 11:12:34,722] Finished trial#60 with value: 0.7508130081300813 with parameters: {'classifier': 'RandomForest', 'n_estimators': 1440, 'max_depth': 18.11935206134722}. Best is trial#31 with value: 0.7605770763589988.\n",
      "[I 2020-07-26 11:12:38,454] Finished trial#61 with value: 0.7491869918699187 with parameters: {'classifier': 'RandomForest', 'n_estimators': 1100, 'max_depth': 15.686293354820155}. Best is trial#31 with value: 0.7605770763589988.\n",
      "[I 2020-07-26 11:12:44,671] Finished trial#62 with value: 0.7524310537223019 with parameters: {'classifier': 'RandomForest', 'n_estimators': 1830, 'max_depth': 28.616828345733385}. Best is trial#31 with value: 0.7605770763589988.\n",
      "[I 2020-07-26 11:12:51,003] Finished trial#63 with value: 0.7556910569105691 with parameters: {'classifier': 'RandomForest', 'n_estimators': 1740, 'max_depth': 29.446694978172268}. Best is trial#31 with value: 0.7605770763589988.\n",
      "[I 2020-07-26 11:12:58,716] Finished trial#64 with value: 0.7491790212019768 with parameters: {'classifier': 'RandomForest', 'n_estimators': 1720, 'max_depth': 31.63381600758003}. Best is trial#31 with value: 0.7605770763589988.\n",
      "[I 2020-07-26 11:13:08,950] Finished trial#65 with value: 0.7491710505340348 with parameters: {'classifier': 'RandomForest', 'n_estimators': 1940, 'max_depth': 22.900771799253896}. Best is trial#31 with value: 0.7605770763589988.\n",
      "[I 2020-07-26 11:13:17,585] Finished trial#66 with value: 0.7459190180137095 with parameters: {'classifier': 'RandomForest', 'n_estimators': 1620, 'max_depth': 20.49345899216859}. Best is trial#31 with value: 0.7605770763589988.\n",
      "[I 2020-07-26 11:13:25,466] Finished trial#67 with value: 0.7459190180137095 with parameters: {'classifier': 'RandomForest', 'n_estimators': 1510, 'max_depth': 25.87782752312237}. Best is trial#31 with value: 0.7605770763589988.\n",
      "[I 2020-07-26 11:13:34,961] Finished trial#68 with value: 0.7475609756097561 with parameters: {'classifier': 'RandomForest', 'n_estimators': 1680, 'max_depth': 34.82209078760644}. Best is trial#31 with value: 0.7605770763589988.\n",
      "[I 2020-07-26 11:13:45,081] Finished trial#69 with value: 0.7491710505340348 with parameters: {'classifier': 'RandomForest', 'n_estimators': 1790, 'max_depth': 41.44284580885465}. Best is trial#31 with value: 0.7605770763589988.\n",
      "[I 2020-07-26 11:13:52,834] Finished trial#70 with value: 0.7524310537223019 with parameters: {'classifier': 'RandomForest', 'n_estimators': 1410, 'max_depth': 18.78442380205641}. Best is trial#31 with value: 0.7605770763589988.\n",
      "[I 2020-07-26 11:14:02,829] Finished trial#71 with value: 0.7524390243902439 with parameters: {'classifier': 'RandomForest', 'n_estimators': 1850, 'max_depth': 22.90372673225308}. Best is trial#31 with value: 0.7605770763589988.\n"
     ]
    },
    {
     "name": "stderr",
     "output_type": "stream",
     "text": [
      "[I 2020-07-26 11:14:10,919] Finished trial#72 with value: 0.7540490993145226 with parameters: {'classifier': 'RandomForest', 'n_estimators': 1550, 'max_depth': 24.96618441571684}. Best is trial#31 with value: 0.7605770763589988.\n",
      "[I 2020-07-26 11:14:19,937] Finished trial#73 with value: 0.7524390243902439 with parameters: {'classifier': 'RandomForest', 'n_estimators': 1760, 'max_depth': 28.24708508320576}. Best is trial#31 with value: 0.7605770763589988.\n",
      "[I 2020-07-26 11:14:28,389] Finished trial#74 with value: 0.7524310537223019 with parameters: {'classifier': 'RandomForest', 'n_estimators': 1600, 'max_depth': 20.191274910118423}. Best is trial#31 with value: 0.7605770763589988.\n",
      "[I 2020-07-26 11:14:29,748] Finished trial#75 with value: 0.7507970667941973 with parameters: {'classifier': 'RandomForest', 'n_estimators': 250, 'max_depth': 29.315704474766573}. Best is trial#31 with value: 0.7605770763589988.\n",
      "[I 2020-07-26 11:14:29,914] Finished trial#76 with value: 0.640068547744301 with parameters: {'classifier': 'SVC', 'svc_c': 93750.79769987645}. Best is trial#31 with value: 0.7605770763589988.\n",
      "[I 2020-07-26 11:14:39,190] Finished trial#77 with value: 0.7508130081300813 with parameters: {'classifier': 'RandomForest', 'n_estimators': 1720, 'max_depth': 31.907128793553458}. Best is trial#31 with value: 0.7605770763589988.\n",
      "[I 2020-07-26 11:14:48,487] Finished trial#78 with value: 0.7524310537223019 with parameters: {'classifier': 'RandomForest', 'n_estimators': 1860, 'max_depth': 17.787631525805928}. Best is trial#31 with value: 0.7605770763589988.\n",
      "[I 2020-07-26 11:14:55,116] Finished trial#79 with value: 0.7573091025027897 with parameters: {'classifier': 'RandomForest', 'n_estimators': 1670, 'max_depth': 37.75964007140754}. Best is trial#31 with value: 0.7605770763589988.\n",
      "[I 2020-07-26 11:15:01,766] Finished trial#80 with value: 0.7524390243902439 with parameters: {'classifier': 'RandomForest', 'n_estimators': 1650, 'max_depth': 36.480720737215265}. Best is trial#31 with value: 0.7605770763589988.\n",
      "[I 2020-07-26 11:15:05,293] Finished trial#81 with value: 0.7491710505340348 with parameters: {'classifier': 'RandomForest', 'n_estimators': 970, 'max_depth': 16.11395571719605}. Best is trial#31 with value: 0.7605770763589988.\n",
      "[I 2020-07-26 11:15:12,315] Finished trial#82 with value: 0.7508050374621393 with parameters: {'classifier': 'RandomForest', 'n_estimators': 1940, 'max_depth': 43.59715377044043}. Best is trial#31 with value: 0.7605770763589988.\n",
      "[I 2020-07-26 11:15:19,012] Finished trial#83 with value: 0.7491790212019768 with parameters: {'classifier': 'RandomForest', 'n_estimators': 1770, 'max_depth': 49.545298430959164}. Best is trial#31 with value: 0.7605770763589988.\n",
      "[I 2020-07-26 11:15:22,950] Finished trial#84 with value: 0.7475530049418141 with parameters: {'classifier': 'RandomForest', 'n_estimators': 1020, 'max_depth': 14.28705593064388}. Best is trial#31 with value: 0.7605770763589988.\n",
      "[I 2020-07-26 11:15:31,928] Finished trial#85 with value: 0.7475530049418141 with parameters: {'classifier': 'RandomForest', 'n_estimators': 1680, 'max_depth': 30.67935260976719}. Best is trial#31 with value: 0.7605770763589988.\n",
      "[I 2020-07-26 11:15:40,082] Finished trial#86 with value: 0.7540730113183485 with parameters: {'classifier': 'RandomForest', 'n_estimators': 1520, 'max_depth': 37.57178207167657}. Best is trial#31 with value: 0.7605770763589988.\n",
      "[I 2020-07-26 11:15:48,160] Finished trial#87 with value: 0.7540570699824646 with parameters: {'classifier': 'RandomForest', 'n_estimators': 1510, 'max_depth': 39.06743687421868}. Best is trial#31 with value: 0.7605770763589988.\n",
      "[I 2020-07-26 11:15:56,823] Finished trial#88 with value: 0.7491710505340348 with parameters: {'classifier': 'RandomForest', 'n_estimators': 1600, 'max_depth': 34.27695192697808}. Best is trial#31 with value: 0.7605770763589988.\n",
      "[I 2020-07-26 11:16:03,804] Finished trial#89 with value: 0.7491710505340348 with parameters: {'classifier': 'RandomForest', 'n_estimators': 1310, 'max_depth': 43.87218894092763}. Best is trial#31 with value: 0.7605770763589988.\n",
      "[I 2020-07-26 11:16:13,872] Finished trial#90 with value: 0.7508050374621393 with parameters: {'classifier': 'RandomForest', 'n_estimators': 1730, 'max_depth': 57.83994219508349}. Best is trial#31 with value: 0.7605770763589988.\n",
      "[I 2020-07-26 11:16:23,960] Finished trial#91 with value: 0.7459190180137095 with parameters: {'classifier': 'RandomForest', 'n_estimators': 1800, 'max_depth': 35.85620230035548}. Best is trial#31 with value: 0.7605770763589988.\n",
      "[I 2020-07-26 11:16:33,168] Finished trial#92 with value: 0.7540650406504065 with parameters: {'classifier': 'RandomForest', 'n_estimators': 1650, 'max_depth': 16.79829776285668}. Best is trial#31 with value: 0.7605770763589988.\n",
      "[I 2020-07-26 11:16:41,866] Finished trial#93 with value: 0.7540650406504065 with parameters: {'classifier': 'RandomForest', 'n_estimators': 1650, 'max_depth': 18.732097278964556}. Best is trial#31 with value: 0.7605770763589988.\n",
      "[I 2020-07-26 11:16:50,561] Finished trial#94 with value: 0.7540570699824646 with parameters: {'classifier': 'RandomForest', 'n_estimators': 1650, 'max_depth': 19.07557326422839}. Best is trial#31 with value: 0.7605770763589988.\n",
      "[I 2020-07-26 11:16:59,040] Finished trial#95 with value: 0.7491710505340348 with parameters: {'classifier': 'RandomForest', 'n_estimators': 1530, 'max_depth': 17.04183741222461}. Best is trial#31 with value: 0.7605770763589988.\n",
      "[I 2020-07-26 11:17:06,330] Finished trial#96 with value: 0.7507970667941973 with parameters: {'classifier': 'RandomForest', 'n_estimators': 1700, 'max_depth': 38.08529838682117}. Best is trial#31 with value: 0.7605770763589988.\n",
      "[I 2020-07-26 11:17:12,149] Finished trial#97 with value: 0.7540570699824646 with parameters: {'classifier': 'RandomForest', 'n_estimators': 1600, 'max_depth': 14.954760567770277}. Best is trial#31 with value: 0.7605770763589988.\n",
      "[I 2020-07-26 11:17:12,308] Finished trial#98 with value: 0.640068547744301 with parameters: {'classifier': 'SVC', 'svc_c': 971399.4596480167}. Best is trial#31 with value: 0.7605770763589988.\n",
      "[I 2020-07-26 11:17:17,480] Finished trial#99 with value: 0.7540650406504065 with parameters: {'classifier': 'RandomForest', 'n_estimators': 1400, 'max_depth': 21.337036718459032}. Best is trial#31 with value: 0.7605770763589988.\n"
     ]
    },
    {
     "name": "stdout",
     "output_type": "stream",
     "text": [
      "Accuracy: 0.7605770763589988\n",
      "Best hyperparameters: {'classifier': 'RandomForest', 'n_estimators': 1630, 'max_depth': 21.80337012847624}\n"
     ]
    }
   ],
   "source": [
    "study = optuna.create_study(direction='maximize')\n",
    "study.optimize(objective, n_trials=100)\n",
    "\n",
    "trial = study.best_trial\n",
    "\n",
    "print('Accuracy: {}'.format(trial.value))\n",
    "print(\"Best hyperparameters: {}\".format(trial.params))"
   ]
  },
  {
   "cell_type": "code",
   "execution_count": 24,
   "metadata": {},
   "outputs": [
    {
     "data": {
      "text/plain": [
       "{'classifier': 'RandomForest',\n",
       " 'n_estimators': 1630,\n",
       " 'max_depth': 21.80337012847624}"
      ]
     },
     "execution_count": 24,
     "metadata": {},
     "output_type": "execute_result"
    }
   ],
   "source": [
    "study.best_params"
   ]
  },
  {
   "cell_type": "code",
   "execution_count": 25,
   "metadata": {},
   "outputs": [
    {
     "data": {
      "text/plain": [
       "FrozenTrial(number=31, value=0.7605770763589988, datetime_start=datetime.datetime(2020, 7, 26, 11, 9, 53, 830675), datetime_complete=datetime.datetime(2020, 7, 26, 11, 9, 59, 429471), params={'classifier': 'RandomForest', 'n_estimators': 1630, 'max_depth': 21.80337012847624}, distributions={'classifier': CategoricalDistribution(choices=('RandomForest', 'SVC')), 'n_estimators': IntUniformDistribution(high=2000, low=200, step=10), 'max_depth': LogUniformDistribution(high=100, low=10)}, user_attrs={}, system_attrs={}, intermediate_values={}, trial_id=31, state=TrialState.COMPLETE)"
      ]
     },
     "execution_count": 25,
     "metadata": {},
     "output_type": "execute_result"
    }
   ],
   "source": [
    "study.best_trial"
   ]
  },
  {
   "cell_type": "code",
   "execution_count": 26,
   "metadata": {},
   "outputs": [
    {
     "data": {
      "text/plain": [
       "RandomForestClassifier(bootstrap=True, ccp_alpha=0.0, class_weight=None,\n",
       "                       criterion='gini', max_depth=30, max_features='auto',\n",
       "                       max_leaf_nodes=None, max_samples=None,\n",
       "                       min_impurity_decrease=0.0, min_impurity_split=None,\n",
       "                       min_samples_leaf=1, min_samples_split=2,\n",
       "                       min_weight_fraction_leaf=0.0, n_estimators=330,\n",
       "                       n_jobs=None, oob_score=False, random_state=None,\n",
       "                       verbose=0, warm_start=False)"
      ]
     },
     "execution_count": 26,
     "metadata": {},
     "output_type": "execute_result"
    }
   ],
   "source": [
    "rf=RandomForestClassifier(n_estimators=330,max_depth=30)\n",
    "rf.fit(X_train,y_train)"
   ]
  },
  {
   "cell_type": "code",
   "execution_count": 29,
   "metadata": {},
   "outputs": [
    {
     "name": "stdout",
     "output_type": "stream",
     "text": [
      "Collecting plotly\n",
      "  Downloading plotly-4.9.0-py2.py3-none-any.whl (12.9 MB)\n",
      "Collecting retrying>=1.3.3\n",
      "  Downloading retrying-1.3.3.tar.gz (10 kB)\n",
      "Requirement already satisfied: six in c:\\users\\deepak\\appdata\\roaming\\python\\python37\\site-packages (from plotly) (1.12.0)\n",
      "Building wheels for collected packages: retrying\n",
      "  Building wheel for retrying (setup.py): started\n",
      "  Building wheel for retrying (setup.py): finished with status 'done'\n",
      "  Created wheel for retrying: filename=retrying-1.3.3-py3-none-any.whl size=11435 sha256=d69d3d8fe17adba828ccc8d8fa403fa4fd953b5520efcf33aebfe523447e796f\n",
      "  Stored in directory: c:\\users\\deepak\\appdata\\local\\pip\\cache\\wheels\\f9\\8d\\8d\\f6af3f7f9eea3553bc2fe6d53e4b287dad18b06a861ac56ddf\n",
      "Successfully built retrying\n",
      "Installing collected packages: retrying, plotly\n",
      "Successfully installed plotly-4.9.0 retrying-1.3.3\n"
     ]
    }
   ],
   "source": [
    "!pip install plotly"
   ]
  },
  {
   "cell_type": "code",
   "execution_count": 31,
   "metadata": {},
   "outputs": [
    {
     "ename": "ImportError",
     "evalue": "Plotly is not available. Please install plotly to use this feature. Plotly can be installed by executing `$ pip install plotly`. For further information, please refer to the installation guide of plotly. (The actual import error is as follows: No module named 'plotly')",
     "output_type": "error",
     "traceback": [
      "\u001b[1;31m---------------------------------------------------------------------------\u001b[0m",
      "\u001b[1;31mImportError\u001b[0m                               Traceback (most recent call last)",
      "\u001b[1;32m<ipython-input-31-2f791708cd79>\u001b[0m in \u001b[0;36m<module>\u001b[1;34m\u001b[0m\n\u001b[0;32m      1\u001b[0m \u001b[1;31m## needs plotly to be installed\u001b[0m\u001b[1;33m\u001b[0m\u001b[1;33m\u001b[0m\u001b[1;33m\u001b[0m\u001b[0m\n\u001b[1;32m----> 2\u001b[1;33m \u001b[0moptuna\u001b[0m\u001b[1;33m.\u001b[0m\u001b[0mvisualization\u001b[0m\u001b[1;33m.\u001b[0m\u001b[0mplot_optimization_history\u001b[0m\u001b[1;33m(\u001b[0m\u001b[0mstudy\u001b[0m\u001b[1;33m)\u001b[0m\u001b[1;33m\u001b[0m\u001b[1;33m\u001b[0m\u001b[0m\n\u001b[0m",
      "\u001b[1;32m~\\anaconda3\\lib\\site-packages\\optuna\\visualization\\optimization_history.py\u001b[0m in \u001b[0;36mplot_optimization_history\u001b[1;34m(study)\u001b[0m\n\u001b[0;32m     52\u001b[0m     \"\"\"\n\u001b[0;32m     53\u001b[0m \u001b[1;33m\u001b[0m\u001b[0m\n\u001b[1;32m---> 54\u001b[1;33m     \u001b[0m_check_plotly_availability\u001b[0m\u001b[1;33m(\u001b[0m\u001b[1;33m)\u001b[0m\u001b[1;33m\u001b[0m\u001b[1;33m\u001b[0m\u001b[0m\n\u001b[0m\u001b[0;32m     55\u001b[0m     \u001b[1;32mreturn\u001b[0m \u001b[0m_get_optimization_history_plot\u001b[0m\u001b[1;33m(\u001b[0m\u001b[0mstudy\u001b[0m\u001b[1;33m)\u001b[0m\u001b[1;33m\u001b[0m\u001b[1;33m\u001b[0m\u001b[0m\n\u001b[0;32m     56\u001b[0m \u001b[1;33m\u001b[0m\u001b[0m\n",
      "\u001b[1;32m~\\anaconda3\\lib\\site-packages\\optuna\\visualization\\utils.py\u001b[0m in \u001b[0;36m_check_plotly_availability\u001b[1;34m()\u001b[0m\n\u001b[0;32m     38\u001b[0m             \u001b[1;34m\"Plotly can be installed by executing `$ pip install plotly`. \"\u001b[0m\u001b[1;33m\u001b[0m\u001b[1;33m\u001b[0m\u001b[0m\n\u001b[0;32m     39\u001b[0m             \u001b[1;34m\"For further information, please refer to the installation guide of plotly. \"\u001b[0m\u001b[1;33m\u001b[0m\u001b[1;33m\u001b[0m\u001b[0m\n\u001b[1;32m---> 40\u001b[1;33m             \u001b[1;34m\"(The actual import error is as follows: \"\u001b[0m \u001b[1;33m+\u001b[0m \u001b[0mstr\u001b[0m\u001b[1;33m(\u001b[0m\u001b[0mplotly_imports\u001b[0m\u001b[1;33m.\u001b[0m\u001b[0m_import_error\u001b[0m\u001b[1;33m)\u001b[0m \u001b[1;33m+\u001b[0m \u001b[1;34m\")\"\u001b[0m\u001b[1;33m\u001b[0m\u001b[1;33m\u001b[0m\u001b[0m\n\u001b[0m\u001b[0;32m     41\u001b[0m         )\n\u001b[0;32m     42\u001b[0m \u001b[1;33m\u001b[0m\u001b[0m\n",
      "\u001b[1;31mImportError\u001b[0m: Plotly is not available. Please install plotly to use this feature. Plotly can be installed by executing `$ pip install plotly`. For further information, please refer to the installation guide of plotly. (The actual import error is as follows: No module named 'plotly')"
     ]
    }
   ],
   "source": [
    "## needs plotly to be installed\n",
    "optuna.visualization.plot_optimization_history(study)"
   ]
  },
  {
   "cell_type": "code",
   "execution_count": 33,
   "metadata": {},
   "outputs": [
    {
     "name": "stdout",
     "output_type": "stream",
     "text": [
      "---------------------- confusion_matrix -------------------------\n",
      "[[92 15]\n",
      " [15 32]]\n",
      "---------------------- accuracy_score -------------------------\n",
      "0.8051948051948052\n",
      "---------------------- classification_report -------------------------\n",
      "              precision    recall  f1-score   support\n",
      "\n",
      "           0       0.86      0.86      0.86       107\n",
      "           1       0.68      0.68      0.68        47\n",
      "\n",
      "    accuracy                           0.81       154\n",
      "   macro avg       0.77      0.77      0.77       154\n",
      "weighted avg       0.81      0.81      0.81       154\n",
      "\n"
     ]
    }
   ],
   "source": [
    "y_pred=rf.predict(X_test)\n",
    "\n",
    "print('---------------------- confusion_matrix -------------------------')\n",
    "print(confusion_matrix(y_test,y_pred))\n",
    "\n",
    "print('---------------------- accuracy_score -------------------------')\n",
    "print(accuracy_score(y_test,y_pred))\n",
    "\n",
    "print('---------------------- classification_report -------------------------')\n",
    "print(classification_report(y_test,y_pred))\n"
   ]
  },
  {
   "cell_type": "code",
   "execution_count": null,
   "metadata": {},
   "outputs": [],
   "source": []
  }
 ],
 "metadata": {
  "kernelspec": {
   "display_name": "Python 3",
   "language": "python",
   "name": "python3"
  },
  "language_info": {
   "codemirror_mode": {
    "name": "ipython",
    "version": 3
   },
   "file_extension": ".py",
   "mimetype": "text/x-python",
   "name": "python",
   "nbconvert_exporter": "python",
   "pygments_lexer": "ipython3",
   "version": "3.7.7"
  }
 },
 "nbformat": 4,
 "nbformat_minor": 4
}
